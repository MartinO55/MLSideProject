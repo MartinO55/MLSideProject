{
 "cells": [
  {
   "cell_type": "code",
   "execution_count": 2,
   "metadata": {},
   "outputs": [
    {
     "data": {
      "text/html": [
       "<div>\n",
       "<style scoped>\n",
       "    .dataframe tbody tr th:only-of-type {\n",
       "        vertical-align: middle;\n",
       "    }\n",
       "\n",
       "    .dataframe tbody tr th {\n",
       "        vertical-align: top;\n",
       "    }\n",
       "\n",
       "    .dataframe thead th {\n",
       "        text-align: right;\n",
       "    }\n",
       "</style>\n",
       "<table border=\"1\" class=\"dataframe\">\n",
       "  <thead>\n",
       "    <tr style=\"text-align: right;\">\n",
       "      <th></th>\n",
       "      <th>date</th>\n",
       "      <th>store</th>\n",
       "      <th>item</th>\n",
       "      <th>sales</th>\n",
       "    </tr>\n",
       "  </thead>\n",
       "  <tbody>\n",
       "    <tr>\n",
       "      <th>0</th>\n",
       "      <td>2013-01-01</td>\n",
       "      <td>7</td>\n",
       "      <td>5</td>\n",
       "      <td>5</td>\n",
       "    </tr>\n",
       "    <tr>\n",
       "      <th>1</th>\n",
       "      <td>2013-01-01</td>\n",
       "      <td>4</td>\n",
       "      <td>9</td>\n",
       "      <td>19</td>\n",
       "    </tr>\n",
       "    <tr>\n",
       "      <th>2</th>\n",
       "      <td>2013-01-01</td>\n",
       "      <td>1</td>\n",
       "      <td>33</td>\n",
       "      <td>37</td>\n",
       "    </tr>\n",
       "    <tr>\n",
       "      <th>3</th>\n",
       "      <td>2013-01-01</td>\n",
       "      <td>3</td>\n",
       "      <td>41</td>\n",
       "      <td>14</td>\n",
       "    </tr>\n",
       "    <tr>\n",
       "      <th>4</th>\n",
       "      <td>2013-01-01</td>\n",
       "      <td>5</td>\n",
       "      <td>24</td>\n",
       "      <td>26</td>\n",
       "    </tr>\n",
       "  </tbody>\n",
       "</table>\n",
       "</div>"
      ],
      "text/plain": [
       "        date store item  sales\n",
       "0 2013-01-01     7    5      5\n",
       "1 2013-01-01     4    9     19\n",
       "2 2013-01-01     1   33     37\n",
       "3 2013-01-01     3   41     14\n",
       "4 2013-01-01     5   24     26"
      ]
     },
     "execution_count": 2,
     "metadata": {},
     "output_type": "execute_result"
    }
   ],
   "source": [
    "from os.path import exists\n",
    "import pandas as pd\n",
    "\n",
    "df_path = \"./train.csv.zip\"\n",
    "df = pd.read_csv(df_path)\n",
    "df= df.sample(n=19000, random_state=0)#randomly pick 19k out of the data\n",
    "df[\"store\"] = df[\"store\"].astype(str)#set these columns to strings\n",
    "df[\"item\"] = df[\"item\"].astype(str)\n",
    "\n",
    "df[\"date\"]= pd.to_datetime(df[\"date\"])\n",
    "\n",
    "df.sort_values(\"date\",inplace=True)\n",
    "df.reset_index(inplace=True, drop = True)\n",
    "df.head()"
   ]
  },
  {
   "cell_type": "code",
   "execution_count": 3,
   "metadata": {},
   "outputs": [],
   "source": [
    "train = df[df[\"date\"]< \"2017-01-01\"]\n",
    "test = df[df[\"date\"] >= \"2017-01-01\"]"
   ]
  },
  {
   "cell_type": "code",
   "execution_count": 4,
   "metadata": {},
   "outputs": [],
   "source": [
    "train_features = train.drop(columns=[\"sales\"])\n",
    "train_target = train[\"sales\"]\n",
    "test_features = test.drop(columns=['sales'])\n",
    "test_target = test[\"sales\"]"
   ]
  },
  {
   "cell_type": "code",
   "execution_count": 5,
   "metadata": {},
   "outputs": [
    {
     "name": "stdout",
     "output_type": "stream",
     "text": [
      "WARNING: Search started with DATE search key only\n",
      "Try to add other keys like the COUNTRY, POSTAL_CODE, PHONE NUMBER, EMAIL/HEM, IPv4 to your training dataset\n",
      "for search through all the available data sources.\n",
      "See docs https://github.com/upgini/upgini#-total-239-countries-and-up-to-41-years-of-history\n",
      "Detected task type: ModelTaskType.REGRESSION\n",
      "\n"
     ]
    },
    {
     "data": {
      "text/html": [
       "<table><tr><th style='font-weight:bold'>Column name</th><th style='font-weight:bold'>Status</th><th style='font-weight:bold'>Errors</th></tr><tr><td>date</td><td style='background-color:#DAF7A6;color:black'>All valid</td><td>-</td></tr><tr><td>target</td><td style='background-color:#DAF7A6;color:black'>All valid</td><td>-</td></tr></table>"
      ],
      "text/plain": [
       "<IPython.core.display.HTML object>"
      ]
     },
     "metadata": {},
     "output_type": "display_data"
    },
    {
     "name": "stdout",
     "output_type": "stream",
     "text": [
      "\n",
      "Running search request, search_id=0f4a6962-cfc8-48a2-8af1-3d651ea200d0\n",
      "We'll send email notification once it's completed, just use your personal api_key from profile.upgini.com\n",
      "-\n",
      "\n",
      "\u001b[92m\u001b[1m\n",
      "38 relevant feature(s) found with the search keys: ['date']\u001b[0m\n"
     ]
    },
    {
     "data": {
      "text/html": [
       "<style>\n",
       "            .upgini-df thead th {\n",
       "                font-weight:bold;\n",
       "                text-align: right;\n",
       "                padding: 0.5em;\n",
       "            }\n",
       "\n",
       "            .upgini-df td {\n",
       "                padding: 0.5em;\n",
       "            }\n",
       "\n",
       "            .upgini-text {\n",
       "                text-align: right;\n",
       "            }\n",
       "\n",
       "            .upgini-number {\n",
       "                text-align: center;\n",
       "            }\n",
       "        </style><table class='upgini-df'><thead><th>Provider</th><th>Source</th><th>Feature name</th><th>SHAP value</th><th>Coverage %</th><th>Type</th><th>Feature type</th></thead><tbody><tr><td class='upgini-text'></td><td class='upgini-text'></td><td class='upgini-text'>item</td><td class='upgini-number'>0.542757</td><td class='upgini-number'>100.000000</td><td class='upgini-text'>categorical</td><td class='upgini-text'></td></tr><tr><td class='upgini-text'></td><td class='upgini-text'></td><td class='upgini-text'>store</td><td class='upgini-number'>0.190758</td><td class='upgini-number'>100.000000</td><td class='upgini-text'>categorical</td><td class='upgini-text'></td></tr><tr><td class='upgini-text'><a href='https://upgini.com/#data_sources' target='_blank' rel='noopener noreferrer'>Upgini</a></td><td class='upgini-text'><a href='https://upgini.com/#data_sources' target='_blank' rel='noopener noreferrer'>Public data</a></td><td class='upgini-text'><a href='https://docs.upgini.com/public/weather/weather_umap#f_weather_date_weather_umap_48_b39cd0c4' target='_blank' rel='noopener noreferrer'>f_weather_date_weather_umap_48_b39cd0c4</a></td><td class='upgini-number'>0.045142</td><td class='upgini-number'>100.000000</td><td class='upgini-text'>numerical</td><td class='upgini-text'>Free</td></tr><tr><td class='upgini-text'><a href='https://upgini.com/#data_sources' target='_blank' rel='noopener noreferrer'>Upgini</a></td><td class='upgini-text'><a href='https://upgini.com/#data_sources' target='_blank' rel='noopener noreferrer'>Public data</a></td><td class='upgini-text'><a href='https://docs.upgini.com/public/weather/weather_umap#f_weather_date_weather_umap_0_1ff14cbf' target='_blank' rel='noopener noreferrer'>f_weather_date_weather_umap_0_1ff14cbf</a></td><td class='upgini-number'>0.037054</td><td class='upgini-number'>100.000000</td><td class='upgini-text'>numerical</td><td class='upgini-text'>Free</td></tr><tr><td class='upgini-text'><a href='https://upgini.com/#data_sources' target='_blank' rel='noopener noreferrer'>Upgini</a></td><td class='upgini-text'><a href='https://upgini.com/#data_sources' target='_blank' rel='noopener noreferrer'>Public data</a></td><td class='upgini-text'><a href='https://docs.upgini.com/public/weather/weather_umap#f_weather_date_weather_umap_24_2e14c9a6' target='_blank' rel='noopener noreferrer'>f_weather_date_weather_umap_24_2e14c9a6</a></td><td class='upgini-number'>0.032766</td><td class='upgini-number'>100.000000</td><td class='upgini-text'>numerical</td><td class='upgini-text'>Free</td></tr><tr><td class='upgini-text'><a href='https://upgini.com/#data_sources' target='_blank' rel='noopener noreferrer'>Upgini</a></td><td class='upgini-text'><a href='https://upgini.com/#data_sources' target='_blank' rel='noopener noreferrer'>Public data</a></td><td class='upgini-text'><a href='https://docs.upgini.com/public/weather/weather_umap#f_weather_date_weather_umap_33_89bb7578' target='_blank' rel='noopener noreferrer'>f_weather_date_weather_umap_33_89bb7578</a></td><td class='upgini-number'>0.022424</td><td class='upgini-number'>100.000000</td><td class='upgini-text'>numerical</td><td class='upgini-text'>Free</td></tr><tr><td class='upgini-text'><a href='https://upgini.com/#data_sources' target='_blank' rel='noopener noreferrer'>Upgini</a></td><td class='upgini-text'><a href='https://upgini.com/#data_sources' target='_blank' rel='noopener noreferrer'>Public data</a></td><td class='upgini-text'><a href='https://docs.upgini.com/public/calendar/calendar#f_events_date_week_sin1_847b5db1' target='_blank' rel='noopener noreferrer'>f_events_date_week_sin1_847b5db1</a></td><td class='upgini-number'>0.020552</td><td class='upgini-number'>100.000000</td><td class='upgini-text'>numerical</td><td class='upgini-text'>Free</td></tr><tr><td class='upgini-text'><a href='https://upgini.com/#data_sources' target='_blank' rel='noopener noreferrer'>Upgini</a></td><td class='upgini-text'><a href='https://upgini.com/#data_sources' target='_blank' rel='noopener noreferrer'>Public data</a></td><td class='upgini-text'><a href='https://docs.upgini.com/public/calendar/calendar#f_events_date_year_cos1_9014a856' target='_blank' rel='noopener noreferrer'>f_events_date_year_cos1_9014a856</a></td><td class='upgini-number'>0.015001</td><td class='upgini-number'>100.000000</td><td class='upgini-text'>numerical</td><td class='upgini-text'>Free</td></tr><tr><td class='upgini-text'><a href='https://upgini.com/#data_sources' target='_blank' rel='noopener noreferrer'>Upgini</a></td><td class='upgini-text'><a href='https://upgini.com/#data_sources' target='_blank' rel='noopener noreferrer'>Public data</a></td><td class='upgini-text'><a href='https://docs.upgini.com/public/economics/cpi_pca#f_economic_date_cpi_pca_5_789d07f3' target='_blank' rel='noopener noreferrer'>f_economic_date_cpi_pca_5_789d07f3</a></td><td class='upgini-number'>0.005940</td><td class='upgini-number'>100.000000</td><td class='upgini-text'>numerical</td><td class='upgini-text'>Free</td></tr><tr><td class='upgini-text'><a href='https://upgini.com/#data_sources' target='_blank' rel='noopener noreferrer'>Upgini</a></td><td class='upgini-text'><a href='https://upgini.com/#data_sources' target='_blank' rel='noopener noreferrer'>Public data</a></td><td class='upgini-text'><a href='https://docs.upgini.com/public/markets/finance#f_financial_date_dow_jones_fe02128f' target='_blank' rel='noopener noreferrer'>f_financial_date_dow_jones_fe02128f</a></td><td class='upgini-number'>0.004217</td><td class='upgini-number'>100.000000</td><td class='upgini-text'>numerical</td><td class='upgini-text'>Free</td></tr><tr><td class='upgini-text'><a href='https://upgini.com/#data_sources' target='_blank' rel='noopener noreferrer'>Upgini</a></td><td class='upgini-text'><a href='https://upgini.com/#data_sources' target='_blank' rel='noopener noreferrer'>Public data</a></td><td class='upgini-text'><a href='https://docs.upgini.com/public/markets/finance#f_financial_date_silver_14e835ea' target='_blank' rel='noopener noreferrer'>f_financial_date_silver_14e835ea</a></td><td class='upgini-number'>0.003406</td><td class='upgini-number'>100.000000</td><td class='upgini-text'>numerical</td><td class='upgini-text'>Free</td></tr><tr><td class='upgini-text'><a href='https://upgini.com/#data_sources' target='_blank' rel='noopener noreferrer'>Upgini</a></td><td class='upgini-text'><a href='https://upgini.com/#data_sources' target='_blank' rel='noopener noreferrer'>Public data</a></td><td class='upgini-text'><a href='https://docs.upgini.com/public/weather/weather_umap#f_weather_date_weather_umap_43_36116dd1' target='_blank' rel='noopener noreferrer'>f_weather_date_weather_umap_43_36116dd1</a></td><td class='upgini-number'>0.003329</td><td class='upgini-number'>100.000000</td><td class='upgini-text'>numerical</td><td class='upgini-text'>Free</td></tr><tr><td class='upgini-text'><a href='https://upgini.com/#data_sources' target='_blank' rel='noopener noreferrer'>Upgini</a></td><td class='upgini-text'><a href='https://upgini.com/#data_sources' target='_blank' rel='noopener noreferrer'>Public data</a></td><td class='upgini-text'><a href='https://docs.upgini.com/public/markets/finance_umap#f_financial_date_finance_umap_1_498e1c4b' target='_blank' rel='noopener noreferrer'>f_financial_date_finance_umap_1_498e1c4b</a></td><td class='upgini-number'>0.002723</td><td class='upgini-number'>100.000000</td><td class='upgini-text'>numerical</td><td class='upgini-text'>Free</td></tr><tr><td class='upgini-text'><a href='https://upgini.com/#data_sources' target='_blank' rel='noopener noreferrer'>Upgini</a></td><td class='upgini-text'><a href='https://upgini.com/#data_sources' target='_blank' rel='noopener noreferrer'>Public data</a></td><td class='upgini-text'><a href='https://docs.upgini.com/public/markets/finance#f_financial_date_dow_jones_7d_to_7d_1y_shift_61f71e90' target='_blank' rel='noopener noreferrer'>f_financial_date_dow_jones_7d_to_7d_1y_shift_61f71e90</a></td><td class='upgini-number'>0.002123</td><td class='upgini-number'>100.000000</td><td class='upgini-text'>numerical</td><td class='upgini-text'>Free</td></tr><tr><td class='upgini-text'><a href='https://upgini.com/#data_sources' target='_blank' rel='noopener noreferrer'>Upgini</a></td><td class='upgini-text'><a href='https://upgini.com/#data_sources' target='_blank' rel='noopener noreferrer'>Public data</a></td><td class='upgini-text'><a href='https://docs.upgini.com/public/markets/finance_umap#f_financial_date_finance_umap_2_8ebbf71b' target='_blank' rel='noopener noreferrer'>f_financial_date_finance_umap_2_8ebbf71b</a></td><td class='upgini-number'>0.001683</td><td class='upgini-number'>100.000000</td><td class='upgini-text'>numerical</td><td class='upgini-text'>Free</td></tr><tr><td class='upgini-text'><a href='https://upgini.com/#data_sources' target='_blank' rel='noopener noreferrer'>Upgini</a></td><td class='upgini-text'><a href='https://upgini.com/#data_sources' target='_blank' rel='noopener noreferrer'>Public data</a></td><td class='upgini-text'><a href='https://docs.upgini.com/public/cci/cci_umap#f_economic_date_cci_umap_1_c75ae77c' target='_blank' rel='noopener noreferrer'>f_economic_date_cci_umap_1_c75ae77c</a></td><td class='upgini-number'>0.001477</td><td class='upgini-number'>100.000000</td><td class='upgini-text'>numerical</td><td class='upgini-text'>Free</td></tr><tr><td class='upgini-text'><a href='https://upgini.com/#data_sources' target='_blank' rel='noopener noreferrer'>Upgini</a></td><td class='upgini-text'><a href='https://upgini.com/#data_sources' target='_blank' rel='noopener noreferrer'>Public data</a></td><td class='upgini-text'><a href='https://docs.upgini.com/public/calendar/football_calendar#f_events_date_italy_game_cnt_99570b80' target='_blank' rel='noopener noreferrer'>f_events_date_italy_game_cnt_99570b80</a></td><td class='upgini-number'>0.001166</td><td class='upgini-number'>100.000000</td><td class='upgini-text'>numerical</td><td class='upgini-text'>Free</td></tr><tr><td class='upgini-text'><a href='https://upgini.com/#data_sources' target='_blank' rel='noopener noreferrer'>Upgini</a></td><td class='upgini-text'><a href='https://upgini.com/#data_sources' target='_blank' rel='noopener noreferrer'>Public data</a></td><td class='upgini-text'><a href='https://docs.upgini.com/public/markets/finance#f_financial_date_gold_7d_to_1y_b7e49241' target='_blank' rel='noopener noreferrer'>f_financial_date_gold_7d_to_1y_b7e49241</a></td><td class='upgini-number'>0.001131</td><td class='upgini-number'>100.000000</td><td class='upgini-text'>numerical</td><td class='upgini-text'>Free</td></tr><tr><td class='upgini-text'><a href='https://upgini.com/#data_sources' target='_blank' rel='noopener noreferrer'>Upgini</a></td><td class='upgini-text'><a href='https://upgini.com/#data_sources' target='_blank' rel='noopener noreferrer'>Public data</a></td><td class='upgini-text'><a href='https://docs.upgini.com/public/markets/finance#f_financial_date_nasdaq_c568533e' target='_blank' rel='noopener noreferrer'>f_financial_date_nasdaq_c568533e</a></td><td class='upgini-number'>0.000722</td><td class='upgini-number'>100.000000</td><td class='upgini-text'>numerical</td><td class='upgini-text'>Free</td></tr><tr><td class='upgini-text'><a href='https://upgini.com/#data_sources' target='_blank' rel='noopener noreferrer'>Upgini</a></td><td class='upgini-text'><a href='https://upgini.com/#data_sources' target='_blank' rel='noopener noreferrer'>Public data</a></td><td class='upgini-text'><a href='https://docs.upgini.com/public/weather/weather_umap#f_weather_date_weather_umap_16_25ac8b87' target='_blank' rel='noopener noreferrer'>f_weather_date_weather_umap_16_25ac8b87</a></td><td class='upgini-number'>0.000555</td><td class='upgini-number'>100.000000</td><td class='upgini-text'>numerical</td><td class='upgini-text'>Free</td></tr><tr><td class='upgini-text'><a href='https://upgini.com/#data_sources' target='_blank' rel='noopener noreferrer'>Upgini</a></td><td class='upgini-text'><a href='https://upgini.com/#data_sources' target='_blank' rel='noopener noreferrer'>Public data</a></td><td class='upgini-text'><a href='https://docs.upgini.com/public/economics/cbpol_umap#f_economic_date_cbpol_umap_6_aa0352de' target='_blank' rel='noopener noreferrer'>f_economic_date_cbpol_umap_6_aa0352de</a></td><td class='upgini-number'>0.000390</td><td class='upgini-number'>100.000000</td><td class='upgini-text'>numerical</td><td class='upgini-text'>Free</td></tr><tr><td class='upgini-text'><a href='https://upgini.com/#data_sources' target='_blank' rel='noopener noreferrer'>Upgini</a></td><td class='upgini-text'><a href='https://upgini.com/#data_sources' target='_blank' rel='noopener noreferrer'>Public data</a></td><td class='upgini-text'><a href='https://docs.upgini.com/public/cci/cci_pca#f_economic_date_cci_pca_7_17261951' target='_blank' rel='noopener noreferrer'>f_economic_date_cci_pca_7_17261951</a></td><td class='upgini-number'>0.000388</td><td class='upgini-number'>100.000000</td><td class='upgini-text'>numerical</td><td class='upgini-text'>Free</td></tr><tr><td class='upgini-text'><a href='https://upgini.com/#data_sources' target='_blank' rel='noopener noreferrer'>Upgini</a></td><td class='upgini-text'><a href='https://upgini.com/#data_sources' target='_blank' rel='noopener noreferrer'>Public data</a></td><td class='upgini-text'><a href='https://docs.upgini.com/public/calendar/calendar#f_events_date_week_sin2_e28440a5' target='_blank' rel='noopener noreferrer'>f_events_date_week_sin2_e28440a5</a></td><td class='upgini-number'>0.000383</td><td class='upgini-number'>100.000000</td><td class='upgini-text'>numerical</td><td class='upgini-text'>Free</td></tr><tr><td class='upgini-text'><a href='https://upgini.com/#data_sources' target='_blank' rel='noopener noreferrer'>Upgini</a></td><td class='upgini-text'><a href='https://upgini.com/#data_sources' target='_blank' rel='noopener noreferrer'>Public data</a></td><td class='upgini-text'><a href='https://docs.upgini.com/public/calendar/calendar#f_events_date_week_cos2_b0a07cfc' target='_blank' rel='noopener noreferrer'>f_events_date_week_cos2_b0a07cfc</a></td><td class='upgini-number'>0.000264</td><td class='upgini-number'>100.000000</td><td class='upgini-text'>numerical</td><td class='upgini-text'>Free</td></tr><tr><td class='upgini-text'><a href='https://upgini.com/#data_sources' target='_blank' rel='noopener noreferrer'>Upgini</a></td><td class='upgini-text'><a href='https://upgini.com/#data_sources' target='_blank' rel='noopener noreferrer'>Public data</a></td><td class='upgini-text'><a href='https://docs.upgini.com/public/weather/weather_umap#f_weather_date_weather_umap_20_90e5e123' target='_blank' rel='noopener noreferrer'>f_weather_date_weather_umap_20_90e5e123</a></td><td class='upgini-number'>0.000259</td><td class='upgini-number'>100.000000</td><td class='upgini-text'>numerical</td><td class='upgini-text'>Free</td></tr><tr><td class='upgini-text'><a href='https://upgini.com/#data_sources' target='_blank' rel='noopener noreferrer'>Upgini</a></td><td class='upgini-text'><a href='https://upgini.com/#data_sources' target='_blank' rel='noopener noreferrer'>Public data</a></td><td class='upgini-text'><a href='https://docs.upgini.com/public/markets/finance#f_financial_date_stoxx_dd33e672' target='_blank' rel='noopener noreferrer'>f_financial_date_stoxx_dd33e672</a></td><td class='upgini-number'>0.000223</td><td class='upgini-number'>100.000000</td><td class='upgini-text'>numerical</td><td class='upgini-text'>Free</td></tr><tr><td class='upgini-text'><a href='https://upgini.com/#data_sources' target='_blank' rel='noopener noreferrer'>Upgini</a></td><td class='upgini-text'><a href='https://upgini.com/#data_sources' target='_blank' rel='noopener noreferrer'>Public data</a></td><td class='upgini-text'><a href='https://docs.upgini.com/public/weather/weather_umap#f_weather_date_weather_umap_34_c3ef5b4f' target='_blank' rel='noopener noreferrer'>f_weather_date_weather_umap_34_c3ef5b4f</a></td><td class='upgini-number'>0.000218</td><td class='upgini-number'>100.000000</td><td class='upgini-text'>numerical</td><td class='upgini-text'>Free</td></tr><tr><td class='upgini-text'><a href='https://upgini.com/#data_sources' target='_blank' rel='noopener noreferrer'>Upgini</a></td><td class='upgini-text'><a href='https://upgini.com/#data_sources' target='_blank' rel='noopener noreferrer'>Public data</a></td><td class='upgini-text'><a href='https://docs.upgini.com/public/weather/weather_umap#f_weather_date_weather_umap_13_842ae1fc' target='_blank' rel='noopener noreferrer'>f_weather_date_weather_umap_13_842ae1fc</a></td><td class='upgini-number'>0.000157</td><td class='upgini-number'>100.000000</td><td class='upgini-text'>numerical</td><td class='upgini-text'>Free</td></tr><tr><td class='upgini-text'><a href='https://upgini.com/#data_sources' target='_blank' rel='noopener noreferrer'>Upgini</a></td><td class='upgini-text'><a href='https://upgini.com/#data_sources' target='_blank' rel='noopener noreferrer'>Public data</a></td><td class='upgini-text'><a href='https://docs.upgini.com/public/markets/finance#f_financial_date_gold_7d_to_7d_1y_shift_935515c0' target='_blank' rel='noopener noreferrer'>f_financial_date_gold_7d_to_7d_1y_shift_935515c0</a></td><td class='upgini-number'>0.000114</td><td class='upgini-number'>100.000000</td><td class='upgini-text'>numerical</td><td class='upgini-text'>Free</td></tr><tr><td class='upgini-text'><a href='https://upgini.com/#data_sources' target='_blank' rel='noopener noreferrer'>Upgini</a></td><td class='upgini-text'><a href='https://upgini.com/#data_sources' target='_blank' rel='noopener noreferrer'>Public data</a></td><td class='upgini-text'><a href='https://docs.upgini.com/public/economics/cbpol_pca#f_economic_date_cbpol_pca_2_33d6e3fc' target='_blank' rel='noopener noreferrer'>f_economic_date_cbpol_pca_2_33d6e3fc</a></td><td class='upgini-number'>0.000105</td><td class='upgini-number'>100.000000</td><td class='upgini-text'>numerical</td><td class='upgini-text'>Free</td></tr><tr><td class='upgini-text'><a href='https://upgini.com/#data_sources' target='_blank' rel='noopener noreferrer'>Upgini</a></td><td class='upgini-text'><a href='https://upgini.com/#data_sources' target='_blank' rel='noopener noreferrer'>Public data</a></td><td class='upgini-text'><a href='https://docs.upgini.com/public/calendar/calendar#f_events_date_year_cos2_7acbaf1b' target='_blank' rel='noopener noreferrer'>f_events_date_year_cos2_7acbaf1b</a></td><td class='upgini-number'>0.000100</td><td class='upgini-number'>100.000000</td><td class='upgini-text'>numerical</td><td class='upgini-text'>Free</td></tr><tr><td class='upgini-text'><a href='https://upgini.com/#data_sources' target='_blank' rel='noopener noreferrer'>Upgini</a></td><td class='upgini-text'><a href='https://upgini.com/#data_sources' target='_blank' rel='noopener noreferrer'>Public data</a></td><td class='upgini-text'><a href='https://docs.upgini.com/public/calendar/calendar#f_events_date_year_sin2_59955ffd' target='_blank' rel='noopener noreferrer'>f_events_date_year_sin2_59955ffd</a></td><td class='upgini-number'>0.000100</td><td class='upgini-number'>100.000000</td><td class='upgini-text'>numerical</td><td class='upgini-text'>Free</td></tr><tr><td class='upgini-text'><a href='https://upgini.com/#data_sources' target='_blank' rel='noopener noreferrer'>Upgini</a></td><td class='upgini-text'><a href='https://upgini.com/#data_sources' target='_blank' rel='noopener noreferrer'>Public data</a></td><td class='upgini-text'><a href='https://docs.upgini.com/public/economics/cbpol_umap#f_economic_date_cbpol_umap_4_c5ce4e90' target='_blank' rel='noopener noreferrer'>f_economic_date_cbpol_umap_4_c5ce4e90</a></td><td class='upgini-number'>0.000100</td><td class='upgini-number'>100.000000</td><td class='upgini-text'>numerical</td><td class='upgini-text'>Free</td></tr><tr><td class='upgini-text'><a href='https://upgini.com/#data_sources' target='_blank' rel='noopener noreferrer'>Upgini</a></td><td class='upgini-text'><a href='https://upgini.com/#data_sources' target='_blank' rel='noopener noreferrer'>Public data</a></td><td class='upgini-text'><a href='https://docs.upgini.com/public/cci/cci_pca#f_economic_date_cci_pca_2_7441c668' target='_blank' rel='noopener noreferrer'>f_economic_date_cci_pca_2_7441c668</a></td><td class='upgini-number'>0.000100</td><td class='upgini-number'>100.000000</td><td class='upgini-text'>numerical</td><td class='upgini-text'>Free</td></tr><tr><td class='upgini-text'><a href='https://upgini.com/#data_sources' target='_blank' rel='noopener noreferrer'>Upgini</a></td><td class='upgini-text'><a href='https://upgini.com/#data_sources' target='_blank' rel='noopener noreferrer'>Public data</a></td><td class='upgini-text'><a href='https://docs.upgini.com/public/economics/cpi_umap#f_economic_date_cpi_umap_4_970cc061' target='_blank' rel='noopener noreferrer'>f_economic_date_cpi_umap_4_970cc061</a></td><td class='upgini-number'>0.000100</td><td class='upgini-number'>100.000000</td><td class='upgini-text'>numerical</td><td class='upgini-text'>Free</td></tr><tr><td class='upgini-text'><a href='https://upgini.com/#data_sources' target='_blank' rel='noopener noreferrer'>Upgini</a></td><td class='upgini-text'><a href='https://upgini.com/#data_sources' target='_blank' rel='noopener noreferrer'>Public data</a></td><td class='upgini-text'><a href='https://docs.upgini.com/public/markets/finance#f_financial_date_natural_gas_7d_to_7d_1y_shift_6ca69128' target='_blank' rel='noopener noreferrer'>f_financial_date_natural_gas_7d_to_7d_1y_shift_6ca69128</a></td><td class='upgini-number'>0.000100</td><td class='upgini-number'>100.000000</td><td class='upgini-text'>numerical</td><td class='upgini-text'>Free</td></tr><tr><td class='upgini-text'><a href='https://upgini.com/#data_sources' target='_blank' rel='noopener noreferrer'>Upgini</a></td><td class='upgini-text'><a href='https://upgini.com/#data_sources' target='_blank' rel='noopener noreferrer'>Public data</a></td><td class='upgini-text'><a href='https://docs.upgini.com/public/markets/finance#f_financial_date_silver_daydiff_15352b2e' target='_blank' rel='noopener noreferrer'>f_financial_date_silver_daydiff_15352b2e</a></td><td class='upgini-number'>0.000100</td><td class='upgini-number'>100.000000</td><td class='upgini-text'>numerical</td><td class='upgini-text'>Free</td></tr><tr><td class='upgini-text'><a href='https://upgini.com/#data_sources' target='_blank' rel='noopener noreferrer'>Upgini</a></td><td class='upgini-text'><a href='https://upgini.com/#data_sources' target='_blank' rel='noopener noreferrer'>Public data</a></td><td class='upgini-text'><a href='https://docs.upgini.com/public/markets/finance#f_financial_date_usd_f4b772a9' target='_blank' rel='noopener noreferrer'>f_financial_date_usd_f4b772a9</a></td><td class='upgini-number'>0.000100</td><td class='upgini-number'>100.000000</td><td class='upgini-text'>numerical</td><td class='upgini-text'>Free</td></tr><tr><td class='upgini-text'><a href='https://upgini.com/#data_sources' target='_blank' rel='noopener noreferrer'>Upgini</a></td><td class='upgini-text'><a href='https://upgini.com/#data_sources' target='_blank' rel='noopener noreferrer'>Public data</a></td><td class='upgini-text'><a href='https://docs.upgini.com/public/weather/weather_umap#f_weather_date_weather_umap_12_d03be9a0' target='_blank' rel='noopener noreferrer'>f_weather_date_weather_umap_12_d03be9a0</a></td><td class='upgini-number'>0.000100</td><td class='upgini-number'>100.000000</td><td class='upgini-text'>numerical</td><td class='upgini-text'>Free</td></tr><tr><td class='upgini-text'><a href='https://upgini.com/#data_sources' target='_blank' rel='noopener noreferrer'>Upgini</a></td><td class='upgini-text'><a href='https://upgini.com/#data_sources' target='_blank' rel='noopener noreferrer'>Public data</a></td><td class='upgini-text'><a href='https://docs.upgini.com/public/weather/weather_umap#f_weather_date_weather_umap_49_6c549e11' target='_blank' rel='noopener noreferrer'>f_weather_date_weather_umap_49_6c549e11</a></td><td class='upgini-number'>0.000100</td><td class='upgini-number'>100.000000</td><td class='upgini-text'>numerical</td><td class='upgini-text'>Free</td></tr></tbody></table>"
      ],
      "text/plain": [
       "<IPython.core.display.HTML object>"
      ]
     },
     "metadata": {},
     "output_type": "display_data"
    },
    {
     "name": "stdout",
     "output_type": "stream",
     "text": [
      "Calculating accuracy uplift after enrichment...\n",
      "|\n",
      "\u001b[92m\u001b[1m\n",
      "Quality metrics\u001b[0m\n"
     ]
    },
    {
     "data": {
      "text/html": [
       "<div>\n",
       "<style scoped>\n",
       "    .dataframe tbody tr th:only-of-type {\n",
       "        vertical-align: middle;\n",
       "    }\n",
       "\n",
       "    .dataframe tbody tr th {\n",
       "        vertical-align: top;\n",
       "    }\n",
       "\n",
       "    .dataframe thead th {\n",
       "        text-align: right;\n",
       "    }\n",
       "</style>\n",
       "<table border=\"1\" class=\"dataframe\">\n",
       "  <thead>\n",
       "    <tr style=\"text-align: right;\">\n",
       "      <th></th>\n",
       "      <th>Rows</th>\n",
       "      <th>Baseline mean_squared_error</th>\n",
       "      <th>Enriched mean_squared_error</th>\n",
       "      <th>Uplift</th>\n",
       "    </tr>\n",
       "    <tr>\n",
       "      <th></th>\n",
       "      <th></th>\n",
       "      <th></th>\n",
       "      <th></th>\n",
       "      <th></th>\n",
       "    </tr>\n",
       "  </thead>\n",
       "  <tbody>\n",
       "    <tr>\n",
       "      <th>Train</th>\n",
       "      <td>15213</td>\n",
       "      <td>331.590507</td>\n",
       "      <td>205.182835</td>\n",
       "      <td>126.407672</td>\n",
       "    </tr>\n",
       "    <tr>\n",
       "      <th>Eval 1</th>\n",
       "      <td>3787</td>\n",
       "      <td>581.575525</td>\n",
       "      <td>401.545500</td>\n",
       "      <td>180.030025</td>\n",
       "    </tr>\n",
       "  </tbody>\n",
       "</table>\n",
       "</div>"
      ],
      "text/plain": [
       "         Rows  Baseline mean_squared_error  Enriched mean_squared_error  \\\n",
       "                                                                          \n",
       "Train   15213                   331.590507                   205.182835   \n",
       "Eval 1   3787                   581.575525                   401.545500   \n",
       "\n",
       "            Uplift  \n",
       "                    \n",
       "Train   126.407672  \n",
       "Eval 1  180.030025  "
      ]
     },
     "metadata": {},
     "output_type": "display_data"
    }
   ],
   "source": [
    "from upgini import FeaturesEnricher,SearchKey\n",
    "from upgini.metadata import CVType\n",
    "\n",
    "\n",
    "enricher = FeaturesEnricher(search_keys={\"date\":SearchKey.DATE}, cv=CVType.time_series)\n",
    "\n",
    "enricher.fit(train_features,train_target,eval_set=[(test_features,test_target)])"
   ]
  },
  {
   "cell_type": "code",
   "execution_count": 6,
   "metadata": {},
   "outputs": [],
   "source": [
    "from catboost import CatBoostRegressor\n",
    "from catboost.utils import eval_metric\n",
    "\n",
    "model = CatBoostRegressor(verbose= False, allow_writing_files=False, random_state=0)"
   ]
  },
  {
   "cell_type": "code",
   "execution_count": 7,
   "metadata": {},
   "outputs": [
    {
     "name": "stdout",
     "output_type": "stream",
     "text": [
      "WARNING: Search started with DATE search key only\n",
      "Try to add other keys like the COUNTRY, POSTAL_CODE, PHONE NUMBER, EMAIL/HEM, IPv4 to your training dataset\n",
      "for search through all the available data sources.\n",
      "See docs https://github.com/upgini/upgini#-total-239-countries-and-up-to-41-years-of-history\n",
      "WARNING: 90.39637% of the rows are fully duplicated\n"
     ]
    },
    {
     "data": {
      "text/html": [
       "<table><tr><th style='font-weight:bold'>Column name</th><th style='font-weight:bold'>Status</th><th style='font-weight:bold'>Errors</th></tr><tr><td>date</td><td style='background-color:#DAF7A6;color:black'>All valid</td><td>-</td></tr></table>"
      ],
      "text/plain": [
       "<IPython.core.display.HTML object>"
      ]
     },
     "metadata": {},
     "output_type": "display_data"
    },
    {
     "name": "stdout",
     "output_type": "stream",
     "text": [
      "\n",
      "Running search request, search_id=985a7d2f-bbb4-4177-9ee9-d206372f2d2d\n",
      "We'll send email notification once it's completed, just use your personal api_key from profile.upgini.com\n",
      "|\n",
      "\n",
      "Retrieving selected features from data sources...\n",
      "\\\n",
      "WARNING: Search started with DATE search key only\n",
      "Try to add other keys like the COUNTRY, POSTAL_CODE, PHONE NUMBER, EMAIL/HEM, IPv4 to your training dataset\n",
      "for search through all the available data sources.\n",
      "See docs https://github.com/upgini/upgini#-total-239-countries-and-up-to-41-years-of-history\n",
      "WARNING: 90.36176% of the rows are fully duplicated\n"
     ]
    },
    {
     "data": {
      "text/html": [
       "<table><tr><th style='font-weight:bold'>Column name</th><th style='font-weight:bold'>Status</th><th style='font-weight:bold'>Errors</th></tr><tr><td>date</td><td style='background-color:#DAF7A6;color:black'>All valid</td><td>-</td></tr></table>"
      ],
      "text/plain": [
       "<IPython.core.display.HTML object>"
      ]
     },
     "metadata": {},
     "output_type": "display_data"
    },
    {
     "name": "stdout",
     "output_type": "stream",
     "text": [
      "\n",
      "Running search request, search_id=8c8f768b-d611-4c9a-8d80-96e69bcf125a\n",
      "We'll send email notification once it's completed, just use your personal api_key from profile.upgini.com\n",
      "|\n",
      "\n",
      "Retrieving selected features from data sources...\n",
      "|\n"
     ]
    },
    {
     "data": {
      "text/html": [
       "<div>\n",
       "<style scoped>\n",
       "    .dataframe tbody tr th:only-of-type {\n",
       "        vertical-align: middle;\n",
       "    }\n",
       "\n",
       "    .dataframe tbody tr th {\n",
       "        vertical-align: top;\n",
       "    }\n",
       "\n",
       "    .dataframe thead th {\n",
       "        text-align: right;\n",
       "    }\n",
       "</style>\n",
       "<table border=\"1\" class=\"dataframe\">\n",
       "  <thead>\n",
       "    <tr style=\"text-align: right;\">\n",
       "      <th></th>\n",
       "      <th>date</th>\n",
       "      <th>store</th>\n",
       "      <th>item</th>\n",
       "      <th>f_weather_date_weather_umap_48_b39cd0c4</th>\n",
       "      <th>f_weather_date_weather_umap_0_1ff14cbf</th>\n",
       "      <th>f_weather_date_weather_umap_24_2e14c9a6</th>\n",
       "      <th>f_weather_date_weather_umap_33_89bb7578</th>\n",
       "      <th>f_events_date_week_sin1_847b5db1</th>\n",
       "      <th>f_events_date_year_cos1_9014a856</th>\n",
       "      <th>f_economic_date_cpi_pca_5_789d07f3</th>\n",
       "      <th>...</th>\n",
       "      <th>f_events_date_year_cos2_7acbaf1b</th>\n",
       "      <th>f_events_date_year_sin2_59955ffd</th>\n",
       "      <th>f_economic_date_cbpol_umap_4_c5ce4e90</th>\n",
       "      <th>f_economic_date_cci_pca_2_7441c668</th>\n",
       "      <th>f_economic_date_cpi_umap_4_970cc061</th>\n",
       "      <th>f_financial_date_natural_gas_7d_to_7d_1y_shift_6ca69128</th>\n",
       "      <th>f_financial_date_silver_daydiff_15352b2e</th>\n",
       "      <th>f_financial_date_usd_f4b772a9</th>\n",
       "      <th>f_weather_date_weather_umap_12_d03be9a0</th>\n",
       "      <th>f_weather_date_weather_umap_49_6c549e11</th>\n",
       "    </tr>\n",
       "  </thead>\n",
       "  <tbody>\n",
       "    <tr>\n",
       "      <th>0</th>\n",
       "      <td>2013-01-01</td>\n",
       "      <td>7</td>\n",
       "      <td>5</td>\n",
       "      <td>4.540985</td>\n",
       "      <td>3.756893</td>\n",
       "      <td>5.828106</td>\n",
       "      <td>4.644803</td>\n",
       "      <td>0.781831</td>\n",
       "      <td>0.98522</td>\n",
       "      <td>-8.943169</td>\n",
       "      <td>...</td>\n",
       "      <td>0.941317</td>\n",
       "      <td>0.337523</td>\n",
       "      <td>4.307364</td>\n",
       "      <td>-7.658552</td>\n",
       "      <td>10.153208</td>\n",
       "      <td>1.119508</td>\n",
       "      <td>0.083</td>\n",
       "      <td>79.769997</td>\n",
       "      <td>3.739055</td>\n",
       "      <td>4.654517</td>\n",
       "    </tr>\n",
       "    <tr>\n",
       "      <th>1</th>\n",
       "      <td>2013-01-01</td>\n",
       "      <td>4</td>\n",
       "      <td>9</td>\n",
       "      <td>4.540985</td>\n",
       "      <td>3.756893</td>\n",
       "      <td>5.828106</td>\n",
       "      <td>4.644803</td>\n",
       "      <td>0.781831</td>\n",
       "      <td>0.98522</td>\n",
       "      <td>-8.943169</td>\n",
       "      <td>...</td>\n",
       "      <td>0.941317</td>\n",
       "      <td>0.337523</td>\n",
       "      <td>4.307364</td>\n",
       "      <td>-7.658552</td>\n",
       "      <td>10.153208</td>\n",
       "      <td>1.119508</td>\n",
       "      <td>0.083</td>\n",
       "      <td>79.769997</td>\n",
       "      <td>3.739055</td>\n",
       "      <td>4.654517</td>\n",
       "    </tr>\n",
       "    <tr>\n",
       "      <th>2</th>\n",
       "      <td>2013-01-01</td>\n",
       "      <td>1</td>\n",
       "      <td>33</td>\n",
       "      <td>4.540985</td>\n",
       "      <td>3.756893</td>\n",
       "      <td>5.828106</td>\n",
       "      <td>4.644803</td>\n",
       "      <td>0.781831</td>\n",
       "      <td>0.98522</td>\n",
       "      <td>-8.943169</td>\n",
       "      <td>...</td>\n",
       "      <td>0.941317</td>\n",
       "      <td>0.337523</td>\n",
       "      <td>4.307364</td>\n",
       "      <td>-7.658552</td>\n",
       "      <td>10.153208</td>\n",
       "      <td>1.119508</td>\n",
       "      <td>0.083</td>\n",
       "      <td>79.769997</td>\n",
       "      <td>3.739055</td>\n",
       "      <td>4.654517</td>\n",
       "    </tr>\n",
       "    <tr>\n",
       "      <th>3</th>\n",
       "      <td>2013-01-01</td>\n",
       "      <td>3</td>\n",
       "      <td>41</td>\n",
       "      <td>4.540985</td>\n",
       "      <td>3.756893</td>\n",
       "      <td>5.828106</td>\n",
       "      <td>4.644803</td>\n",
       "      <td>0.781831</td>\n",
       "      <td>0.98522</td>\n",
       "      <td>-8.943169</td>\n",
       "      <td>...</td>\n",
       "      <td>0.941317</td>\n",
       "      <td>0.337523</td>\n",
       "      <td>4.307364</td>\n",
       "      <td>-7.658552</td>\n",
       "      <td>10.153208</td>\n",
       "      <td>1.119508</td>\n",
       "      <td>0.083</td>\n",
       "      <td>79.769997</td>\n",
       "      <td>3.739055</td>\n",
       "      <td>4.654517</td>\n",
       "    </tr>\n",
       "    <tr>\n",
       "      <th>4</th>\n",
       "      <td>2013-01-01</td>\n",
       "      <td>5</td>\n",
       "      <td>24</td>\n",
       "      <td>4.540985</td>\n",
       "      <td>3.756893</td>\n",
       "      <td>5.828106</td>\n",
       "      <td>4.644803</td>\n",
       "      <td>0.781831</td>\n",
       "      <td>0.98522</td>\n",
       "      <td>-8.943169</td>\n",
       "      <td>...</td>\n",
       "      <td>0.941317</td>\n",
       "      <td>0.337523</td>\n",
       "      <td>4.307364</td>\n",
       "      <td>-7.658552</td>\n",
       "      <td>10.153208</td>\n",
       "      <td>1.119508</td>\n",
       "      <td>0.083</td>\n",
       "      <td>79.769997</td>\n",
       "      <td>3.739055</td>\n",
       "      <td>4.654517</td>\n",
       "    </tr>\n",
       "  </tbody>\n",
       "</table>\n",
       "<p>5 rows × 41 columns</p>\n",
       "</div>"
      ],
      "text/plain": [
       "        date store item  f_weather_date_weather_umap_48_b39cd0c4  \\\n",
       "0 2013-01-01     7    5                                 4.540985   \n",
       "1 2013-01-01     4    9                                 4.540985   \n",
       "2 2013-01-01     1   33                                 4.540985   \n",
       "3 2013-01-01     3   41                                 4.540985   \n",
       "4 2013-01-01     5   24                                 4.540985   \n",
       "\n",
       "   f_weather_date_weather_umap_0_1ff14cbf  \\\n",
       "0                                3.756893   \n",
       "1                                3.756893   \n",
       "2                                3.756893   \n",
       "3                                3.756893   \n",
       "4                                3.756893   \n",
       "\n",
       "   f_weather_date_weather_umap_24_2e14c9a6  \\\n",
       "0                                 5.828106   \n",
       "1                                 5.828106   \n",
       "2                                 5.828106   \n",
       "3                                 5.828106   \n",
       "4                                 5.828106   \n",
       "\n",
       "   f_weather_date_weather_umap_33_89bb7578  f_events_date_week_sin1_847b5db1  \\\n",
       "0                                 4.644803                          0.781831   \n",
       "1                                 4.644803                          0.781831   \n",
       "2                                 4.644803                          0.781831   \n",
       "3                                 4.644803                          0.781831   \n",
       "4                                 4.644803                          0.781831   \n",
       "\n",
       "   f_events_date_year_cos1_9014a856  f_economic_date_cpi_pca_5_789d07f3  ...  \\\n",
       "0                           0.98522                           -8.943169  ...   \n",
       "1                           0.98522                           -8.943169  ...   \n",
       "2                           0.98522                           -8.943169  ...   \n",
       "3                           0.98522                           -8.943169  ...   \n",
       "4                           0.98522                           -8.943169  ...   \n",
       "\n",
       "   f_events_date_year_cos2_7acbaf1b  f_events_date_year_sin2_59955ffd  \\\n",
       "0                          0.941317                          0.337523   \n",
       "1                          0.941317                          0.337523   \n",
       "2                          0.941317                          0.337523   \n",
       "3                          0.941317                          0.337523   \n",
       "4                          0.941317                          0.337523   \n",
       "\n",
       "   f_economic_date_cbpol_umap_4_c5ce4e90  f_economic_date_cci_pca_2_7441c668  \\\n",
       "0                               4.307364                           -7.658552   \n",
       "1                               4.307364                           -7.658552   \n",
       "2                               4.307364                           -7.658552   \n",
       "3                               4.307364                           -7.658552   \n",
       "4                               4.307364                           -7.658552   \n",
       "\n",
       "   f_economic_date_cpi_umap_4_970cc061  \\\n",
       "0                            10.153208   \n",
       "1                            10.153208   \n",
       "2                            10.153208   \n",
       "3                            10.153208   \n",
       "4                            10.153208   \n",
       "\n",
       "   f_financial_date_natural_gas_7d_to_7d_1y_shift_6ca69128  \\\n",
       "0                                           1.119508         \n",
       "1                                           1.119508         \n",
       "2                                           1.119508         \n",
       "3                                           1.119508         \n",
       "4                                           1.119508         \n",
       "\n",
       "   f_financial_date_silver_daydiff_15352b2e  f_financial_date_usd_f4b772a9  \\\n",
       "0                                     0.083                      79.769997   \n",
       "1                                     0.083                      79.769997   \n",
       "2                                     0.083                      79.769997   \n",
       "3                                     0.083                      79.769997   \n",
       "4                                     0.083                      79.769997   \n",
       "\n",
       "   f_weather_date_weather_umap_12_d03be9a0  \\\n",
       "0                                 3.739055   \n",
       "1                                 3.739055   \n",
       "2                                 3.739055   \n",
       "3                                 3.739055   \n",
       "4                                 3.739055   \n",
       "\n",
       "   f_weather_date_weather_umap_49_6c549e11  \n",
       "0                                 4.654517  \n",
       "1                                 4.654517  \n",
       "2                                 4.654517  \n",
       "3                                 4.654517  \n",
       "4                                 4.654517  \n",
       "\n",
       "[5 rows x 41 columns]"
      ]
     },
     "execution_count": 7,
     "metadata": {},
     "output_type": "execute_result"
    }
   ],
   "source": [
    "enriched_train_features = enricher.transform(train_features, keep_input = True)\n",
    "enriched_test_features = enricher.transform(test_features, keep_input = True)\n",
    "enriched_train_features.head()"
   ]
  },
  {
   "cell_type": "code",
   "execution_count": 8,
   "metadata": {},
   "outputs": [
    {
     "data": {
      "text/plain": [
       "[37.65141857448004]"
      ]
     },
     "execution_count": 8,
     "metadata": {},
     "output_type": "execute_result"
    }
   ],
   "source": [
    "model.fit(train_features,train_target)\n",
    "preds = model.predict(test_features)\n",
    "eval_metric(test_target.values,preds,\"SMAPE\")"
   ]
  },
  {
   "cell_type": "code",
   "execution_count": 9,
   "metadata": {},
   "outputs": [
    {
     "data": {
      "text/plain": [
       "[14.371288898968887]"
      ]
     },
     "execution_count": 9,
     "metadata": {},
     "output_type": "execute_result"
    }
   ],
   "source": [
    "model.fit(enriched_train_features,train_target)\n",
    "better_preds = model.predict(enriched_test_features)\n",
    "eval_metric(test_target.values,better_preds,\"SMAPE\")"
   ]
  }
 ],
 "metadata": {
  "kernelspec": {
   "display_name": "Python 3",
   "language": "python",
   "name": "python3"
  },
  "language_info": {
   "codemirror_mode": {
    "name": "ipython",
    "version": 3
   },
   "file_extension": ".py",
   "mimetype": "text/x-python",
   "name": "python",
   "nbconvert_exporter": "python",
   "pygments_lexer": "ipython3",
   "version": "3.8.1"
  },
  "orig_nbformat": 4,
  "vscode": {
   "interpreter": {
    "hash": "a1d88f1d6af7274392319340ad589157e5034eb25853bd7ff5b502ff0dd39369"
   }
  }
 },
 "nbformat": 4,
 "nbformat_minor": 2
}
